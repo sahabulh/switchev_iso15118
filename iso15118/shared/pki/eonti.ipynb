{
 "cells": [
  {
   "cell_type": "code",
   "execution_count": 1,
   "id": "de211062",
   "metadata": {},
   "outputs": [],
   "source": [
    "import requests\n",
    "import json\n",
    "import subprocess\n",
    "\n",
    "from gen_ids import get_EMAID\n",
    "\n",
    "from cryptography.hazmat.primitives import hashes, serialization\n",
    "# from cryptography.hazmat.primitives.asymmetric import ec\n",
    "from cryptography import x509\n",
    "from cryptography.x509.oid import NameOID"
   ]
  },
  {
   "cell_type": "code",
   "execution_count": 2,
   "id": "5d5267a1",
   "metadata": {},
   "outputs": [],
   "source": [
    "headers = {'accept': 'application/json', 'X-API-KEY': '014f43b1b6a27650c00298f226_696e1e0a8be2a219d251e0661ad2e8f4e87d42fc42ab4bab5a1acefb283af355', 'Content-Type': 'application/json'}"
   ]
  },
  {
   "cell_type": "code",
   "execution_count": 3,
   "id": "d92f5f08",
   "metadata": {},
   "outputs": [],
   "source": [
    "def get_cert(serial):\n",
    "    data = {\"serial_number\": serial}\n",
    "    res = requests.get('https://demo.one.digicert.com/iot/api/v1/certificate/', headers=headers, params=data)\n",
    "    data = res.json()\n",
    "    if len(data['records']):\n",
    "        cert = x509.load_pem_x509_certificate(data['records'][0]['body'].encode())\n",
    "        return cert\n",
    "    else:\n",
    "        raise Exception(f\"Certificate with serial {serial} couldn't be found.\")"
   ]
  },
  {
   "cell_type": "code",
   "execution_count": 4,
   "id": "b6ad9f7b",
   "metadata": {},
   "outputs": [],
   "source": [
    "def get_certChain(serial):\n",
    "    data = {\"serial_number\": serial}\n",
    "    res = requests.get('https://demo.one.digicert.com/iot/api/v1/certificate/', headers=headers, params=data)\n",
    "    data = res.json()\n",
    "    if len(data['records']):\n",
    "        certs = []\n",
    "        certs.append(x509.load_pem_x509_certificate(data['records'][0]['body'].encode()))\n",
    "        for cert in data['records'][0]['chain']:\n",
    "            certs.append(x509.load_pem_x509_certificate(cert['blob'].encode()))\n",
    "        return certs\n",
    "    else:\n",
    "        raise Exception(f\"Certificate with serial {serial} couldn't be found.\")"
   ]
  },
  {
   "cell_type": "code",
   "execution_count": 5,
   "id": "ee7fc406",
   "metadata": {},
   "outputs": [],
   "source": [
    "def download_cert(serial, encoding = 'all'):\n",
    "    cert = get_cert(serial)\n",
    "    save_cert(cert, encoding = encoding)"
   ]
  },
  {
   "cell_type": "code",
   "execution_count": 6,
   "id": "cc9389d2",
   "metadata": {},
   "outputs": [],
   "source": [
    "def download_certs(serial, encoding = 'all'):\n",
    "    certs = get_certChain(serial)\n",
    "    save_certs(certs, encoding = encoding)"
   ]
  },
  {
   "cell_type": "code",
   "execution_count": 7,
   "id": "91ee4836",
   "metadata": {},
   "outputs": [],
   "source": [
    "def list_certs(cert_type = \"contract\", status = \"all\", offset = 0, limit = 20, return_list = False):\n",
    "    if cert_type == \"contract\":\n",
    "        enrollment_profile_id = \"IOT_79f09602-de08-4355-a265-08a581d84143\"\n",
    "    elif cert_type == \"secc\":\n",
    "        enrollment_profile_id = \"IOT_f2286f88-4cfa-4d99-be24-998dd1a10e60\"\n",
    "    else:\n",
    "        print(\"Wrong certificate type. It should be either 'contract' or 'secc'.\")\n",
    "        return None\n",
    "    \n",
    "    data = {\"enrollment_method\": \"API\",\n",
    "        \"enrollment_profile_id\": enrollment_profile_id,\n",
    "        \"certificate_type\": \"x509\",\n",
    "        \"offset\": offset,\n",
    "        \"limit\": limit\n",
    "    }\n",
    "    if status in [\"ISSUED\",\"REVOKED\",\"EXPIRED\"]:\n",
    "        data[\"status\"] = status\n",
    "    r = requests.get('https://demo.one.digicert.com/iot/api/v1/certificate/', headers=headers, params=data)\n",
    "    d = r.json()\n",
    "    for i in range(len(d['records'])):\n",
    "        print(f\"Cert {i+1+offset}, CN: {d['records'][i]['common_name']}, Serial: {d['records'][i]['serial_number']}, Status: {d['records'][i]['status']}\")\n",
    "    if return_list:\n",
    "        return d"
   ]
  },
  {
   "cell_type": "code",
   "execution_count": 8,
   "id": "fc4be651",
   "metadata": {},
   "outputs": [],
   "source": [
    "def issue_certs(cert_protocol, offset = 0):\n",
    "    emaid = get_next_available_emaid(offset)\n",
    "    if cert_protocol == 2:\n",
    "        ISO_FOLDER = \"iso15118_2/\"\n",
    "        res = subprocess.run(\"./create_csr_2.sh -e \"+emaid, shell=True)\n",
    "    elif cert_protocol == 20:\n",
    "        ISO_FOLDER = \"iso15118_20/\"\n",
    "        res = subprocess.run(\"./create_csr_20.sh -e \"+emaid, shell=True)\n",
    "    else:\n",
    "        raise Exception(f\"Invalid protocol!\")\n",
    "    with open(ISO_FOLDER+\"csrs/\"+emaid+\".csr\", \"r\") as f:\n",
    "        csr = f.read()\n",
    "        data = {\"csr\": csr, \"enrollment_profile_id\": \"IOT_79f09602-de08-4355-a265-08a581d84143\"}\n",
    "        res = requests.post('https://demo.one.digicert.com/iot/api/v1/certificate/', headers=headers, data=json.dumps(data))\n",
    "        data = res.json()\n",
    "        if data['result'] == 'SUCCESS':\n",
    "            certs = x509.load_pem_x509_certificates(data['pem'].encode())\n",
    "            return certs\n",
    "        else:\n",
    "            raise Exception(f\"Certificate issue request is not successful.\")\n",
    "    return None"
   ]
  },
  {
   "cell_type": "code",
   "execution_count": 9,
   "id": "b291fe69",
   "metadata": {},
   "outputs": [],
   "source": [
    "def get_next_available_emaid(offset = 0):\n",
    "    gen_emaid = get_EMAID(offset)\n",
    "    emaid = next(gen_emaid)\n",
    "    while isUnavailable(emaid):\n",
    "        emaid = next(gen_emaid)\n",
    "    print(f\"Next available EMAID: {emaid}\")\n",
    "    return emaid"
   ]
  },
  {
   "cell_type": "code",
   "execution_count": 10,
   "id": "80095f0d",
   "metadata": {},
   "outputs": [],
   "source": [
    "def save_cert(cert, encoding = 'all'):\n",
    "    name = cert.subject.get_attributes_for_oid(NameOID.COMMON_NAME)[0].value\n",
    "    if encoding == 'all' or encoding == 'pem':\n",
    "        with open(name+\".pem\", \"wb\") as outfile:\n",
    "            outfile.write(cert.public_bytes(serialization.Encoding.PEM))\n",
    "    if encoding == 'all' or encoding == 'der':\n",
    "        with open(name+\".der\", \"wb\") as outfile:\n",
    "            outfile.write(cert.public_bytes(serialization.Encoding.DER))"
   ]
  },
  {
   "cell_type": "code",
   "execution_count": 11,
   "id": "28c620c9",
   "metadata": {},
   "outputs": [],
   "source": [
    "def save_certs(certs, encoding = 'all'):\n",
    "    for cert in certs:\n",
    "        save_cert(cert, encoding = encoding)"
   ]
  },
  {
   "cell_type": "code",
   "execution_count": 12,
   "id": "179fe38b",
   "metadata": {},
   "outputs": [],
   "source": [
    "def isUnavailable(emaid, status = \"ISSUED\"):\n",
    "    data = {\"common_name\": emaid, \"status\": status}\n",
    "    res = requests.get('https://demo.one.digicert.com/iot/api/v1/certificate/', headers=headers, params=data)\n",
    "    data = res.json()\n",
    "    if len(data['records']):\n",
    "        return True\n",
    "    return False"
   ]
  },
  {
   "cell_type": "code",
   "execution_count": 13,
   "id": "bda69a3e",
   "metadata": {},
   "outputs": [
    {
     "name": "stdout",
     "output_type": "stream",
     "text": [
      "Next available EMAID: USEMAC00000002\n"
     ]
    },
    {
     "name": "stderr",
     "output_type": "stream",
     "text": [
      "read EC key\n",
      "writing EC key\n"
     ]
    },
    {
     "data": {
      "text/plain": [
       "[<Certificate(subject=<Name(C=US,O=Sandia,OU=EV Department,CN=USEMAC00000002)>, ...)>,\n",
       " <Certificate(subject=<Name(C=US,O=EV Charging PKI,OU=TEST MO Sub-CA,CN=P-256 TEST Tier 1 MO Sub-CA)>, ...)>,\n",
       " <Certificate(subject=<Name(C=US,O=EV Charging PKI,DC=EVCPKI,OU=TEST Root CA,CN=P-256 TEST Root CA)>, ...)>]"
      ]
     },
     "execution_count": 13,
     "metadata": {},
     "output_type": "execute_result"
    }
   ],
   "source": [
    "# issue_certs(20)"
   ]
  },
  {
   "cell_type": "code",
   "execution_count": 14,
   "id": "d00145ba",
   "metadata": {
    "scrolled": false
   },
   "outputs": [
    {
     "name": "stdout",
     "output_type": "stream",
     "text": [
      "Cert 1, CN: USEMAC00000002, Serial: 10872D45E2B2436D331C90BDEBB8337E3C6874CC, Status: ISSUED\n",
      "Cert 2, CN: USEMAC00000001, Serial: 76F8365B420D67AEB3F7E8AC00E0BB844E54D7FE, Status: ISSUED\n",
      "Cert 3, CN: EMAID_ID1, Serial: 316AFB1CF0EF5CCF630BD71BEB54E36A56F1A195, Status: ISSUED\n"
     ]
    }
   ],
   "source": [
    "list_certs(cert_type=\"contract\")"
   ]
  },
  {
   "cell_type": "code",
   "execution_count": 15,
   "id": "877aaa1b",
   "metadata": {},
   "outputs": [],
   "source": [
    "#download_cert('76F8365B420D67AEB3F7E8AC00E0BB844E54D7FE', encoding = 'der')"
   ]
  },
  {
   "cell_type": "code",
   "execution_count": null,
   "id": "cba59d93",
   "metadata": {},
   "outputs": [],
   "source": []
  }
 ],
 "metadata": {
  "kernelspec": {
   "display_name": "Python 3 (ipykernel)",
   "language": "python",
   "name": "python3"
  },
  "language_info": {
   "codemirror_mode": {
    "name": "ipython",
    "version": 3
   },
   "file_extension": ".py",
   "mimetype": "text/x-python",
   "name": "python",
   "nbconvert_exporter": "python",
   "pygments_lexer": "ipython3",
   "version": "3.9.7"
  }
 },
 "nbformat": 4,
 "nbformat_minor": 5
}
