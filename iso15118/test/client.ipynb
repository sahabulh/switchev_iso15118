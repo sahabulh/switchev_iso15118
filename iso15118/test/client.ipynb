{
 "cells": [
  {
   "cell_type": "code",
   "execution_count": 1,
   "id": "568b74e1",
   "metadata": {},
   "outputs": [],
   "source": [
    "import asyncio\n",
    "import datetime\n",
    "import ssl\n",
    "import os\n",
    "import pickle"
   ]
  },
  {
   "cell_type": "code",
   "execution_count": 2,
   "id": "8ee43a89",
   "metadata": {},
   "outputs": [],
   "source": [
    "class test():\n",
    "    def __init__(self, a):\n",
    "        self.a = a\n",
    "        self.b = 5\n",
    "        \n",
    "    def mult(self):\n",
    "        print(self.a*self.b)"
   ]
  },
  {
   "cell_type": "code",
   "execution_count": 3,
   "id": "b2888798",
   "metadata": {},
   "outputs": [],
   "source": [
    "class result():\n",
    "    def __init__(self, c):\n",
    "        self.c = c\n",
    "        \n",
    "    def disp(self):\n",
    "        print(f'Result is {self.c}')\n",
    "        self.c = c"
   ]
  },
  {
   "cell_type": "code",
   "execution_count": 4,
   "id": "a78df74b",
   "metadata": {},
   "outputs": [],
   "source": [
    "async def tcp_echo_client():\n",
    "    ctx = ssl.SSLContext(protocol=ssl.PROTOCOL_TLS_CLIENT)\n",
    "    ctx.load_cert_chain('oemCertChain.pem', 'oemLeaf.key', '12345')\n",
    "    ctx.load_verify_locations(cafile='v2gRootCACert.pem')\n",
    "    ctx.check_hostname = False\n",
    "    ctx.verify_mode = ssl.VerifyMode.CERT_REQUIRED\n",
    "    ctx.set_ciphers('ECDHE-ECDSA-AES256-GCM-SHA384:ECDHE-RSA-AES256-GCM-SHA384')\n",
    "    reader, writer = await asyncio.open_connection(\n",
    "        '127.0.0.1', 9002, ssl=ctx)\n",
    "    \n",
    "    i = 0\n",
    "    while (i < 5):\n",
    "        dt = datetime.datetime.now()\n",
    "        data = test(i)\n",
    "        message = pickle.dumps(data)\n",
    "        print(f'Time: {dt} Send: {message!r}')\n",
    "        print(f'a: {data.a}, b: {data.b}')\n",
    "        writer.write(message)\n",
    "        await writer.drain()\n",
    "\n",
    "        \n",
    "        message = await reader.read(100)\n",
    "        dt = datetime.datetime.now()\n",
    "        data = pickle.loads(message)\n",
    "        print(f'Time: {dt} Received: {message!r}')\n",
    "        data.disp()\n",
    "        i = i + 1\n",
    "        await asyncio.sleep(1)\n",
    "    \n",
    "    message = 'quit'\n",
    "    print(f'Send: {message!r}')\n",
    "    writer.write(message.encode())\n",
    "    await writer.drain()\n",
    "    data = await reader.read(100)\n",
    "    print(f'Received: {data.decode()!r}')\n",
    "        \n",
    "    print('Close the connection')\n",
    "    writer.close()\n",
    "    await writer.wait_closed()"
   ]
  },
  {
   "cell_type": "code",
   "execution_count": 5,
   "id": "c1662e7a",
   "metadata": {},
   "outputs": [
    {
     "name": "stdout",
     "output_type": "stream",
     "text": [
      "Time: 2023-03-08 21:59:47.210789 Send: b'\\x80\\x04\\x95)\\x00\\x00\\x00\\x00\\x00\\x00\\x00\\x8c\\x08__main__\\x94\\x8c\\x04test\\x94\\x93\\x94)\\x81\\x94}\\x94(\\x8c\\x01a\\x94K\\x00\\x8c\\x01b\\x94K\\x05ub.'\n",
      "a: 0, b: 5\n",
      "Time: 2023-03-08 21:59:47.214762 Received: b'\\x80\\x04\\x95#\\x00\\x00\\x00\\x00\\x00\\x00\\x00\\x8c\\x08__main__\\x94\\x8c\\x06result\\x94\\x93\\x94)\\x81\\x94}\\x94\\x8c\\x01c\\x94Nsb.'\n",
      "Result is None\n"
     ]
    },
    {
     "ename": "NameError",
     "evalue": "name 'c' is not defined",
     "output_type": "error",
     "traceback": [
      "\u001b[1;31m---------------------------------------------------------------------------\u001b[0m",
      "\u001b[1;31mNameError\u001b[0m                                 Traceback (most recent call last)",
      "\u001b[1;32m~\\AppData\\Local\\Temp/ipykernel_828/2728984317.py\u001b[0m in \u001b[0;36m<module>\u001b[1;34m\u001b[0m\n\u001b[1;32m----> 1\u001b[1;33m \u001b[1;32mawait\u001b[0m \u001b[0mtcp_echo_client\u001b[0m\u001b[1;33m(\u001b[0m\u001b[1;33m)\u001b[0m\u001b[1;33m\u001b[0m\u001b[1;33m\u001b[0m\u001b[0m\n\u001b[0m",
      "\u001b[1;32m~\\AppData\\Local\\Temp/ipykernel_828/269832241.py\u001b[0m in \u001b[0;36mtcp_echo_client\u001b[1;34m()\u001b[0m\n\u001b[0;32m     24\u001b[0m         \u001b[0mdata\u001b[0m \u001b[1;33m=\u001b[0m \u001b[0mpickle\u001b[0m\u001b[1;33m.\u001b[0m\u001b[0mloads\u001b[0m\u001b[1;33m(\u001b[0m\u001b[0mmessage\u001b[0m\u001b[1;33m)\u001b[0m\u001b[1;33m\u001b[0m\u001b[1;33m\u001b[0m\u001b[0m\n\u001b[0;32m     25\u001b[0m         \u001b[0mprint\u001b[0m\u001b[1;33m(\u001b[0m\u001b[1;34mf'Time: {dt} Received: {message!r}'\u001b[0m\u001b[1;33m)\u001b[0m\u001b[1;33m\u001b[0m\u001b[1;33m\u001b[0m\u001b[0m\n\u001b[1;32m---> 26\u001b[1;33m         \u001b[0mdata\u001b[0m\u001b[1;33m.\u001b[0m\u001b[0mdisp\u001b[0m\u001b[1;33m(\u001b[0m\u001b[1;33m)\u001b[0m\u001b[1;33m\u001b[0m\u001b[1;33m\u001b[0m\u001b[0m\n\u001b[0m\u001b[0;32m     27\u001b[0m         \u001b[0mi\u001b[0m \u001b[1;33m=\u001b[0m \u001b[0mi\u001b[0m \u001b[1;33m+\u001b[0m \u001b[1;36m1\u001b[0m\u001b[1;33m\u001b[0m\u001b[1;33m\u001b[0m\u001b[0m\n\u001b[0;32m     28\u001b[0m         \u001b[1;32mawait\u001b[0m \u001b[0masyncio\u001b[0m\u001b[1;33m.\u001b[0m\u001b[0msleep\u001b[0m\u001b[1;33m(\u001b[0m\u001b[1;36m1\u001b[0m\u001b[1;33m)\u001b[0m\u001b[1;33m\u001b[0m\u001b[1;33m\u001b[0m\u001b[0m\n",
      "\u001b[1;32m~\\AppData\\Local\\Temp/ipykernel_828/1828501295.py\u001b[0m in \u001b[0;36mdisp\u001b[1;34m(self)\u001b[0m\n\u001b[0;32m      5\u001b[0m     \u001b[1;32mdef\u001b[0m \u001b[0mdisp\u001b[0m\u001b[1;33m(\u001b[0m\u001b[0mself\u001b[0m\u001b[1;33m)\u001b[0m\u001b[1;33m:\u001b[0m\u001b[1;33m\u001b[0m\u001b[1;33m\u001b[0m\u001b[0m\n\u001b[0;32m      6\u001b[0m         \u001b[0mprint\u001b[0m\u001b[1;33m(\u001b[0m\u001b[1;34mf'Result is {self.c}'\u001b[0m\u001b[1;33m)\u001b[0m\u001b[1;33m\u001b[0m\u001b[1;33m\u001b[0m\u001b[0m\n\u001b[1;32m----> 7\u001b[1;33m         \u001b[0mself\u001b[0m\u001b[1;33m.\u001b[0m\u001b[0mc\u001b[0m \u001b[1;33m=\u001b[0m \u001b[0mc\u001b[0m\u001b[1;33m\u001b[0m\u001b[1;33m\u001b[0m\u001b[0m\n\u001b[0m",
      "\u001b[1;31mNameError\u001b[0m: name 'c' is not defined"
     ]
    }
   ],
   "source": [
    "await tcp_echo_client()"
   ]
  }
 ],
 "metadata": {
  "kernelspec": {
   "display_name": "Python 3 (ipykernel)",
   "language": "python",
   "name": "python3"
  },
  "language_info": {
   "codemirror_mode": {
    "name": "ipython",
    "version": 3
   },
   "file_extension": ".py",
   "mimetype": "text/x-python",
   "name": "python",
   "nbconvert_exporter": "python",
   "pygments_lexer": "ipython3",
   "version": "3.9.7"
  }
 },
 "nbformat": 4,
 "nbformat_minor": 5
}
