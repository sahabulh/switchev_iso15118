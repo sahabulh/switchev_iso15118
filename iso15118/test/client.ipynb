{
 "cells": [
  {
   "cell_type": "code",
   "execution_count": 1,
   "id": "568b74e1",
   "metadata": {},
   "outputs": [],
   "source": [
    "import asyncio\n",
    "import datetime\n",
    "import ssl\n",
    "import os"
   ]
  },
  {
   "cell_type": "code",
   "execution_count": 2,
   "id": "a78df74b",
   "metadata": {},
   "outputs": [],
   "source": [
    "async def tcp_echo_client(message):\n",
    "    ctx = ssl.SSLContext(protocol=ssl.PROTOCOL_TLS_CLIENT)\n",
    "    ctx.load_cert_chain('oemCertChain.pem', 'oemLeaf.key', '12345')\n",
    "    ctx.load_verify_locations(cafile='v2gRootCACert.pem')\n",
    "    ctx.check_hostname = False\n",
    "    ctx.verify_mode = ssl.VerifyMode.CERT_REQUIRED\n",
    "    ctx.set_ciphers('ECDHE-ECDSA-AES256-GCM-SHA384:ECDHE-RSA-AES256-GCM-SHA384')\n",
    "    reader, writer = await asyncio.open_connection(\n",
    "        '127.0.0.1', 9002, ssl=ctx)\n",
    "    \n",
    "    i = 0\n",
    "    while (i < 5):\n",
    "        dt = datetime.datetime.now()\n",
    "        print(f'Time: {dt} Send: {message!r}')\n",
    "        writer.write(message.encode())\n",
    "        await writer.drain()\n",
    "\n",
    "        \n",
    "        data = await reader.read(100)\n",
    "        dt = datetime.datetime.now()\n",
    "        print(f'Time: {dt} Received: {data.decode()!r}')\n",
    "        i = i + 1\n",
    "        await asyncio.sleep(1)\n",
    "    \n",
    "    message = 'quit'\n",
    "    print(f'Send: {message!r}')\n",
    "    writer.write(message.encode())\n",
    "    await writer.drain()\n",
    "    data = await reader.read(100)\n",
    "    print(f'Received: {data.decode()!r}')\n",
    "        \n",
    "    print('Close the connection')\n",
    "    writer.close()\n",
    "    await writer.wait_closed()"
   ]
  },
  {
   "cell_type": "code",
   "execution_count": 3,
   "id": "c1662e7a",
   "metadata": {},
   "outputs": [
    {
     "name": "stdout",
     "output_type": "stream",
     "text": [
      "Time: 2023-03-01 16:24:04.686575 Send: 'Client 1: Hello World!'\n",
      "Time: 2023-03-01 16:24:04.687440 Received: 'Client 1: Hello World!'\n",
      "Time: 2023-03-01 16:24:05.688764 Send: 'Client 1: Hello World!'\n",
      "Time: 2023-03-01 16:24:06.690582 Received: 'Client 1: Hello World!'\n",
      "Time: 2023-03-01 16:24:07.692101 Send: 'Client 1: Hello World!'\n",
      "Time: 2023-03-01 16:24:08.694142 Received: 'Client 1: Hello World!'\n",
      "Time: 2023-03-01 16:24:09.695673 Send: 'Client 1: Hello World!'\n",
      "Time: 2023-03-01 16:24:10.696657 Received: 'Client 1: Hello World!'\n",
      "Time: 2023-03-01 16:24:11.698202 Send: 'Client 1: Hello World!'\n",
      "Time: 2023-03-01 16:24:12.699327 Received: 'Client 1: Hello World!'\n",
      "Send: 'quit'\n",
      "Received: 'quit'\n",
      "Close the connection\n"
     ]
    }
   ],
   "source": [
    "await tcp_echo_client('Client 1: Hello World!')"
   ]
  },
  {
   "cell_type": "code",
   "execution_count": null,
   "id": "4dfa86e3",
   "metadata": {},
   "outputs": [],
   "source": []
  }
 ],
 "metadata": {
  "kernelspec": {
   "display_name": "Python 3 (ipykernel)",
   "language": "python",
   "name": "python3"
  },
  "language_info": {
   "codemirror_mode": {
    "name": "ipython",
    "version": 3
   },
   "file_extension": ".py",
   "mimetype": "text/x-python",
   "name": "python",
   "nbconvert_exporter": "python",
   "pygments_lexer": "ipython3",
   "version": "3.9.7"
  }
 },
 "nbformat": 4,
 "nbformat_minor": 5
}
