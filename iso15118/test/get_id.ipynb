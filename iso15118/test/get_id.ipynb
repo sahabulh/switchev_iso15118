{
 "cells": [
  {
   "cell_type": "code",
   "execution_count": 1,
   "id": "7c3a8aa5",
   "metadata": {},
   "outputs": [],
   "source": [
    "def get_generator(pad):\n",
    "    num = 1\n",
    "    while True:\n",
    "        out = format(num, 'x').upper()\n",
    "        yield out.zfill(pad)\n",
    "        num += 1"
   ]
  },
  {
   "cell_type": "code",
   "execution_count": 2,
   "id": "76c41dc1",
   "metadata": {},
   "outputs": [],
   "source": [
    "def get_EMAID():\n",
    "    # Used in the contract certificate (ISO 15118-20 C.1)\n",
    "    # For now, country code 'US', Provider ID 'EMA' and ID type 'C', are hard coded\n",
    "    # eMA Instance: at least 8 character\n",
    "    gen = get_generator(8)\n",
    "    while True:\n",
    "        yield 'USEMAC'+next(gen)"
   ]
  },
  {
   "cell_type": "code",
   "execution_count": 3,
   "id": "e00dd2e0",
   "metadata": {},
   "outputs": [],
   "source": [
    "def get_PCID():\n",
    "    # Used in the OEM provisioning certificate (ISO 15118-20 C.2)\n",
    "    # For now, WMI code '1EV', ID type 'P', are hard coded\n",
    "    # OEM's own unique ID: at least 13 character\n",
    "    gen = get_generator(13)\n",
    "    while True:\n",
    "        yield '1EVP'+next(gen)"
   ]
  },
  {
   "cell_type": "code",
   "execution_count": 4,
   "id": "e1f6f220",
   "metadata": {},
   "outputs": [],
   "source": [
    "def get_SECCID():\n",
    "    # Used in the SECC certificate (ISO 15118-20 C.3)\n",
    "    # For now, country code 'US', EVSE Operator ID '2SE' and ID type 'S', are hard coded\n",
    "    # Controller ID: at least 32 character\n",
    "    gen = get_generator(32)\n",
    "    while True:\n",
    "        yield 'US2SES'+next(gen)"
   ]
  },
  {
   "cell_type": "code",
   "execution_count": 5,
   "id": "0515f937",
   "metadata": {},
   "outputs": [],
   "source": [
    "def get_EVSEID():\n",
    "    # Used for EVSE identification (ISO 15118-20 C.4)\n",
    "    # For now, country code 'US', EVSE Operator ID '2SE' and ID type 'E', are hard coded\n",
    "    # Power Outlet ID: 1 to 31 character(s). We will use 9 characters. \n",
    "    gen = get_generator(9)\n",
    "    while True:\n",
    "        yield 'US2SEE'+next(gen)"
   ]
  },
  {
   "cell_type": "code",
   "execution_count": 6,
   "id": "ab707242",
   "metadata": {},
   "outputs": [],
   "source": [
    "def get_EVCCID():\n",
    "    # Used in the EVCC or EV device certificate (ISO 15118-20 C.5)\n",
    "    # For now, WMI code '1EV', ID type 'V', are hard coded\n",
    "    # Power Outlet ID: 1 to 31 character(s). We will use 9 characters. \n",
    "    gen = get_generator(9)\n",
    "    while True:\n",
    "        yield '1EVV'+next(gen)"
   ]
  },
  {
   "cell_type": "code",
   "execution_count": 7,
   "id": "80c8e6f3",
   "metadata": {},
   "outputs": [
    {
     "name": "stdout",
     "output_type": "stream",
     "text": [
      "USEMAC00000001\n",
      "USEMAC00000002\n",
      "USEMAC00000003\n",
      "USEMAC00000004\n",
      "USEMAC00000005\n"
     ]
    }
   ],
   "source": [
    "emaid = get_EMAID()\n",
    "for i in range(5):\n",
    "    print(next(emaid))"
   ]
  },
  {
   "cell_type": "code",
   "execution_count": 8,
   "id": "a472b3c8",
   "metadata": {},
   "outputs": [
    {
     "name": "stdout",
     "output_type": "stream",
     "text": [
      "US2SES00000000000000000000000000000001\n",
      "US2SES00000000000000000000000000000002\n",
      "US2SES00000000000000000000000000000003\n",
      "US2SES00000000000000000000000000000004\n",
      "US2SES00000000000000000000000000000005\n"
     ]
    }
   ],
   "source": [
    "seccid = get_SECCID()\n",
    "for i in range(5):\n",
    "    print(next(seccid))"
   ]
  },
  {
   "cell_type": "code",
   "execution_count": 10,
   "id": "c771ffa0",
   "metadata": {},
   "outputs": [],
   "source": [
    "seccids = [next(seccid) for i in range(10)]"
   ]
  },
  {
   "cell_type": "code",
   "execution_count": 11,
   "id": "843d3baf",
   "metadata": {},
   "outputs": [
    {
     "data": {
      "text/plain": [
       "['US2SES00000000000000000000000000000006',\n",
       " 'US2SES00000000000000000000000000000007',\n",
       " 'US2SES00000000000000000000000000000008',\n",
       " 'US2SES00000000000000000000000000000009',\n",
       " 'US2SES0000000000000000000000000000000A',\n",
       " 'US2SES0000000000000000000000000000000B',\n",
       " 'US2SES0000000000000000000000000000000C',\n",
       " 'US2SES0000000000000000000000000000000D',\n",
       " 'US2SES0000000000000000000000000000000E',\n",
       " 'US2SES0000000000000000000000000000000F']"
      ]
     },
     "execution_count": 11,
     "metadata": {},
     "output_type": "execute_result"
    }
   ],
   "source": [
    "seccids"
   ]
  },
  {
   "cell_type": "code",
   "execution_count": null,
   "id": "76b17b49",
   "metadata": {},
   "outputs": [],
   "source": []
  }
 ],
 "metadata": {
  "kernelspec": {
   "display_name": "Python 3 (ipykernel)",
   "language": "python",
   "name": "python3"
  },
  "language_info": {
   "codemirror_mode": {
    "name": "ipython",
    "version": 3
   },
   "file_extension": ".py",
   "mimetype": "text/x-python",
   "name": "python",
   "nbconvert_exporter": "python",
   "pygments_lexer": "ipython3",
   "version": "3.9.7"
  }
 },
 "nbformat": 4,
 "nbformat_minor": 5
}
