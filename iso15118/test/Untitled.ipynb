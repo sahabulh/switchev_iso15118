{
 "cells": [
  {
   "cell_type": "code",
   "execution_count": 4,
   "id": "5deff4b6",
   "metadata": {},
   "outputs": [
    {
     "ename": "SyntaxError",
     "evalue": "invalid syntax (2031455046.py, line 2)",
     "output_type": "error",
     "traceback": [
      "\u001b[0;36m  File \u001b[0;32m\"/tmp/ipykernel_196839/2031455046.py\"\u001b[0;36m, line \u001b[0;32m2\u001b[0m\n\u001b[0;31m    if A = d.get(\"C\"):\u001b[0m\n\u001b[0m         ^\u001b[0m\n\u001b[0;31mSyntaxError\u001b[0m\u001b[0;31m:\u001b[0m invalid syntax\n"
     ]
    }
   ],
   "source": [
    "d = {\"A\": 1, \"B\":2}\n",
    "if A = d.get(\"C\"):\n",
    "    print(A)"
   ]
  },
  {
   "cell_type": "code",
   "execution_count": 5,
   "id": "905d24b5",
   "metadata": {},
   "outputs": [
    {
     "name": "stdout",
     "output_type": "stream",
     "text": [
      "N 'a' S\n"
     ]
    }
   ],
   "source": [
    "print(\"N 'a' S\")"
   ]
  },
  {
   "cell_type": "code",
   "execution_count": null,
   "id": "4731318f",
   "metadata": {},
   "outputs": [],
   "source": []
  }
 ],
 "metadata": {
  "kernelspec": {
   "display_name": "Python 3 (ipykernel)",
   "language": "python",
   "name": "python3"
  },
  "language_info": {
   "codemirror_mode": {
    "name": "ipython",
    "version": 3
   },
   "file_extension": ".py",
   "mimetype": "text/x-python",
   "name": "python",
   "nbconvert_exporter": "python",
   "pygments_lexer": "ipython3",
   "version": "3.9.7"
  }
 },
 "nbformat": 4,
 "nbformat_minor": 5
}
