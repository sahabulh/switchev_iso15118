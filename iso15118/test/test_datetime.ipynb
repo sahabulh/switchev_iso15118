{
 "cells": [
  {
   "cell_type": "code",
   "execution_count": 1,
   "id": "6b627710",
   "metadata": {},
   "outputs": [],
   "source": [
    "from datetime import datetime,timedelta\n",
    "from time import time"
   ]
  },
  {
   "cell_type": "code",
   "execution_count": 2,
   "id": "e8a2fde4",
   "metadata": {},
   "outputs": [
    {
     "name": "stdout",
     "output_type": "stream",
     "text": [
      "2023-03-03 15:43:11.234212\n"
     ]
    },
    {
     "data": {
      "text/plain": [
       "datetime.datetime"
      ]
     },
     "execution_count": 2,
     "metadata": {},
     "output_type": "execute_result"
    }
   ],
   "source": [
    "now = datetime.now()\n",
    "print(now)\n",
    "type(now)"
   ]
  },
  {
   "cell_type": "code",
   "execution_count": 3,
   "id": "65e63cbb",
   "metadata": {},
   "outputs": [
    {
     "name": "stdout",
     "output_type": "stream",
     "text": [
      "1677883391.2393556\n"
     ]
    },
    {
     "data": {
      "text/plain": [
       "float"
      ]
     },
     "execution_count": 3,
     "metadata": {},
     "output_type": "execute_result"
    }
   ],
   "source": [
    "current_timestamp = time()\n",
    "print(current_timestamp)\n",
    "type(current_timestamp)"
   ]
  },
  {
   "cell_type": "code",
   "execution_count": 5,
   "id": "18c79076",
   "metadata": {},
   "outputs": [
    {
     "name": "stdout",
     "output_type": "stream",
     "text": [
      "Format Error\n"
     ]
    }
   ],
   "source": [
    "date_time = 'Dec 4 2018 14:07PM'\n",
    "try:\n",
    "    datetime_str = datetime.strptime(date_time, '%b %d %Y %I:%M%p')\n",
    "    print(datetime_str)\n",
    "except ValueError as err:\n",
    "    print(\"Format Error\")"
   ]
  },
  {
   "cell_type": "code",
   "execution_count": null,
   "id": "289dac85",
   "metadata": {},
   "outputs": [],
   "source": []
  }
 ],
 "metadata": {
  "kernelspec": {
   "display_name": "Python 3 (ipykernel)",
   "language": "python",
   "name": "python3"
  },
  "language_info": {
   "codemirror_mode": {
    "name": "ipython",
    "version": 3
   },
   "file_extension": ".py",
   "mimetype": "text/x-python",
   "name": "python",
   "nbconvert_exporter": "python",
   "pygments_lexer": "ipython3",
   "version": "3.9.7"
  }
 },
 "nbformat": 4,
 "nbformat_minor": 5
}
