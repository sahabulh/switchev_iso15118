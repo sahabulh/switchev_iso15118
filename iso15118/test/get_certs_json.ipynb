{
 "cells": [
  {
   "cell_type": "code",
   "execution_count": 1,
   "id": "d05f3d31",
   "metadata": {},
   "outputs": [],
   "source": [
    "import json\n",
    "import requests"
   ]
  },
  {
   "cell_type": "code",
   "execution_count": 2,
   "id": "b10f98fc",
   "metadata": {},
   "outputs": [],
   "source": [
    "head = \"MO\"\n",
    "main_file = head+\"_cert_list.json\""
   ]
  },
  {
   "cell_type": "code",
   "execution_count": 3,
   "id": "b5488394",
   "metadata": {
    "scrolled": false
   },
   "outputs": [],
   "source": [
    "# Opening JSON file\n",
    "f = open(main_file)\n",
    "  \n",
    "# returns JSON object as \n",
    "# a dictionary\n",
    "data = json.load(f)\n",
    "  \n",
    "# Iterating through the json\n",
    "# list\n",
    "i = 1\n",
    "for record in data['records']:\n",
    "    file_name = head+\"Leaf_\"+str(i)+\"_\"+record['status']+\".pem\"\n",
    "    f2 = open(file_name, \"w\")\n",
    "    f2.write(record['body'])\n",
    "    f2.close()\n",
    "    i += 1\n",
    "  \n",
    "# Closing file\n",
    "f.close()"
   ]
  },
  {
   "cell_type": "code",
   "execution_count": 4,
   "id": "5e230c78",
   "metadata": {},
   "outputs": [],
   "source": [
    "# Opening JSON file\n",
    "f = open(main_file)\n",
    "  \n",
    "# returns JSON object as \n",
    "# a dictionary\n",
    "data = json.load(f)\n",
    "  \n",
    "# Iterating through the json\n",
    "# list\n",
    "i = 1\n",
    "for record in data['records']:\n",
    "    chain = record['chain']\n",
    "    f2 = open(head+\"SubCA_cert_\"+str(i)+\".pem\", \"w\")\n",
    "    f2.write(chain[0]['blob'])\n",
    "    f2.close()\n",
    "    f2 = open(head+\"RootCA_cert_\"+str(i)+\".pem\", \"w\")\n",
    "    f2.write(chain[1]['blob'])\n",
    "    f2.close()\n",
    "    i += 1\n",
    "  \n",
    "# Closing file\n",
    "f.close()"
   ]
  },
  {
   "cell_type": "code",
   "execution_count": null,
   "id": "8027312c",
   "metadata": {},
   "outputs": [],
   "source": []
  }
 ],
 "metadata": {
  "kernelspec": {
   "display_name": "Python 3 (ipykernel)",
   "language": "python",
   "name": "python3"
  },
  "language_info": {
   "codemirror_mode": {
    "name": "ipython",
    "version": 3
   },
   "file_extension": ".py",
   "mimetype": "text/x-python",
   "name": "python",
   "nbconvert_exporter": "python",
   "pygments_lexer": "ipython3",
   "version": "3.9.7"
  }
 },
 "nbformat": 4,
 "nbformat_minor": 5
}
