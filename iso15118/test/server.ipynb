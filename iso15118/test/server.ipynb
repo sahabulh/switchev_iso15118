{
 "cells": [
  {
   "cell_type": "code",
   "execution_count": 1,
   "id": "6835cc37",
   "metadata": {},
   "outputs": [],
   "source": [
    "import asyncio\n",
    "import datetime\n",
    "import ssl\n",
    "import pickle\n",
    "import json"
   ]
  },
  {
   "cell_type": "code",
   "execution_count": 2,
   "id": "0b5bf2ff",
   "metadata": {},
   "outputs": [],
   "source": [
    "class test():\n",
    "    def __init__(self, a):\n",
    "        self.a = a\n",
    "        self.b = 5\n",
    "        \n",
    "    def mult(self):\n",
    "        print(self.a*self.b)"
   ]
  },
  {
   "cell_type": "code",
   "execution_count": 3,
   "id": "0bdcf17a",
   "metadata": {},
   "outputs": [],
   "source": [
    "class result():\n",
    "    def __init__(self, c):\n",
    "        self.c = c\n",
    "        \n",
    "    def disp(self):\n",
    "        print(f'Result is {self.c}')\n",
    "        return self.c"
   ]
  },
  {
   "cell_type": "code",
   "execution_count": 4,
   "id": "3804d5c1",
   "metadata": {},
   "outputs": [],
   "source": [
    "async def handle_echo(reader, writer):\n",
    "    i = 0\n",
    "    while (i < 10):\n",
    "        message = await reader.read(100)\n",
    "        dt = datetime.datetime.now()\n",
    "        data = pickle.loads(message)\n",
    "        data = result(data.mult())\n",
    "        addr = writer.get_extra_info('peername')\n",
    "\n",
    "        print(f\"Time: {dt} Received {message!r} from {addr!r}\")\n",
    "        \n",
    "        message = pickle.dumps(data)\n",
    "        dt = datetime.datetime.now()\n",
    "        print(f\"Time: {dt} Send: {message!r}\")\n",
    "        writer.write(message)\n",
    "        await writer.drain()\n",
    "        if message == \"quit\":\n",
    "            break\n",
    "        i = i + 1\n",
    "        await asyncio.sleep(2)\n",
    "\n",
    "    print(\"Close the connection\")\n",
    "    writer.close()\n",
    "    await writer.wait_closed()"
   ]
  },
  {
   "cell_type": "code",
   "execution_count": 5,
   "id": "fc9f8eab",
   "metadata": {},
   "outputs": [],
   "source": [
    "async def main():\n",
    "    ctx = ssl.SSLContext(protocol=ssl.PROTOCOL_TLS_SERVER)\n",
    "    ctx.load_cert_chain('cpoCertChain.pem', keyfile='seccLeaf.key', password='12345')\n",
    "    ctx.load_verify_locations(cafile='oemRootCACert.pem')\n",
    "    ctx.check_hostname = False\n",
    "    ctx.verify_mode = ssl.VerifyMode.CERT_REQUIRED\n",
    "    ctx.set_ciphers('ECDHE-ECDSA-AES256-GCM-SHA384:ECDHE-RSA-AES256-GCM-SHA384')\n",
    "    server = await asyncio.start_server(\n",
    "        handle_echo, '127.0.0.1', 9002, ssl=ctx)\n",
    "\n",
    "    addrs = ', '.join(str(sock.getsockname()) for sock in server.sockets)\n",
    "    print(f'Serving on {addrs}')\n",
    "\n",
    "    async with server:\n",
    "        await server.serve_forever()"
   ]
  },
  {
   "cell_type": "code",
   "execution_count": null,
   "id": "a1ac6d20",
   "metadata": {},
   "outputs": [
    {
     "name": "stdout",
     "output_type": "stream",
     "text": [
      "Serving on ('127.0.0.1', 9002)\n",
      "0\n",
      "Time: 2023-03-08 21:59:47.212755 Received b'\\x80\\x04\\x95)\\x00\\x00\\x00\\x00\\x00\\x00\\x00\\x8c\\x08__main__\\x94\\x8c\\x04test\\x94\\x93\\x94)\\x81\\x94}\\x94(\\x8c\\x01a\\x94K\\x00\\x8c\\x01b\\x94K\\x05ub.' from ('127.0.0.1', 9921)\n",
      "Time: 2023-03-08 21:59:47.213778 Send: b'\\x80\\x04\\x95#\\x00\\x00\\x00\\x00\\x00\\x00\\x00\\x8c\\x08__main__\\x94\\x8c\\x06result\\x94\\x93\\x94)\\x81\\x94}\\x94\\x8c\\x01c\\x94Nsb.'\n"
     ]
    }
   ],
   "source": [
    "await main()"
   ]
  },
  {
   "cell_type": "code",
   "execution_count": null,
   "id": "9e5da63b",
   "metadata": {},
   "outputs": [],
   "source": []
  }
 ],
 "metadata": {
  "kernelspec": {
   "display_name": "Python 3 (ipykernel)",
   "language": "python",
   "name": "python3"
  },
  "language_info": {
   "codemirror_mode": {
    "name": "ipython",
    "version": 3
   },
   "file_extension": ".py",
   "mimetype": "text/x-python",
   "name": "python",
   "nbconvert_exporter": "python",
   "pygments_lexer": "ipython3",
   "version": "3.9.7"
  }
 },
 "nbformat": 4,
 "nbformat_minor": 5
}
