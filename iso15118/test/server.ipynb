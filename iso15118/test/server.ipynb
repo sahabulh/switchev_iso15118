{
 "cells": [
  {
   "cell_type": "code",
   "execution_count": 1,
   "id": "6835cc37",
   "metadata": {},
   "outputs": [],
   "source": [
    "import asyncio\n",
    "import datetime\n",
    "import ssl"
   ]
  },
  {
   "cell_type": "code",
   "execution_count": 2,
   "id": "3804d5c1",
   "metadata": {},
   "outputs": [],
   "source": [
    "async def handle_echo(reader, writer):\n",
    "    i = 0\n",
    "    while (i < 10):\n",
    "        data = await reader.read(100)\n",
    "        dt = datetime.datetime.now()\n",
    "        message = data.decode()\n",
    "        addr = writer.get_extra_info('peername')\n",
    "\n",
    "        print(f\"Time: {dt} Received {message!r} from {addr!r}\")\n",
    "\n",
    "        dt = datetime.datetime.now()\n",
    "        print(f\"Time: {dt} Send: {message!r}\")\n",
    "        writer.write(data)\n",
    "        await writer.drain()\n",
    "        if message == \"quit\":\n",
    "            break\n",
    "        i = i + 1\n",
    "        await asyncio.sleep(2)\n",
    "\n",
    "    print(\"Close the connection\")\n",
    "    writer.close()\n",
    "    await writer.wait_closed()"
   ]
  },
  {
   "cell_type": "code",
   "execution_count": 3,
   "id": "fc9f8eab",
   "metadata": {},
   "outputs": [],
   "source": [
    "async def main():\n",
    "    ctx = ssl.SSLContext(protocol=ssl.PROTOCOL_TLS_SERVER)\n",
    "    ctx.load_cert_chain('cpoCertChain.pem', keyfile='seccLeaf.key', password='12345')\n",
    "    ctx.load_verify_locations(cafile='oemRootCACert.pem')\n",
    "    ctx.check_hostname = False\n",
    "    ctx.verify_mode = ssl.VerifyMode.CERT_REQUIRED\n",
    "    ctx.set_ciphers('ECDHE-ECDSA-AES256-GCM-SHA384:ECDHE-RSA-AES256-GCM-SHA384')\n",
    "    server = await asyncio.start_server(\n",
    "        handle_echo, '127.0.0.1', 9002, ssl=ctx)\n",
    "\n",
    "    addrs = ', '.join(str(sock.getsockname()) for sock in server.sockets)\n",
    "    print(f'Serving on {addrs}')\n",
    "\n",
    "    async with server:\n",
    "        await server.serve_forever()"
   ]
  },
  {
   "cell_type": "code",
   "execution_count": null,
   "id": "cf366690",
   "metadata": {},
   "outputs": [
    {
     "name": "stdout",
     "output_type": "stream",
     "text": [
      "Serving on ('127.0.0.1', 9002)\n",
      "Time: 2023-03-01 16:24:04.687170 Received 'Client 1: Hello World!' from ('127.0.0.1', 59930)\n",
      "Time: 2023-03-01 16:24:04.687218 Send: 'Client 1: Hello World!'\n",
      "Time: 2023-03-01 16:24:06.689254 Received 'Client 1: Hello World!' from ('127.0.0.1', 59930)\n",
      "Time: 2023-03-01 16:24:06.689458 Send: 'Client 1: Hello World!'\n",
      "Time: 2023-03-01 16:24:08.692637 Received 'Client 1: Hello World!' from ('127.0.0.1', 59930)\n",
      "Time: 2023-03-01 16:24:08.692834 Send: 'Client 1: Hello World!'\n",
      "Time: 2023-03-01 16:24:10.695167 Received 'Client 1: Hello World!' from ('127.0.0.1', 59930)\n",
      "Time: 2023-03-01 16:24:10.695357 Send: 'Client 1: Hello World!'\n",
      "Time: 2023-03-01 16:24:12.697846 Received 'Client 1: Hello World!' from ('127.0.0.1', 59930)\n",
      "Time: 2023-03-01 16:24:12.698041 Send: 'Client 1: Hello World!'\n",
      "Time: 2023-03-01 16:24:14.700434 Received 'quit' from ('127.0.0.1', 59930)\n",
      "Time: 2023-03-01 16:24:14.700634 Send: 'quit'\n",
      "Close the connection\n"
     ]
    }
   ],
   "source": [
    "await main()"
   ]
  },
  {
   "cell_type": "code",
   "execution_count": null,
   "id": "af8e582b",
   "metadata": {},
   "outputs": [],
   "source": []
  }
 ],
 "metadata": {
  "kernelspec": {
   "display_name": "Python 3 (ipykernel)",
   "language": "python",
   "name": "python3"
  },
  "language_info": {
   "codemirror_mode": {
    "name": "ipython",
    "version": 3
   },
   "file_extension": ".py",
   "mimetype": "text/x-python",
   "name": "python",
   "nbconvert_exporter": "python",
   "pygments_lexer": "ipython3",
   "version": "3.9.7"
  }
 },
 "nbformat": 4,
 "nbformat_minor": 5
}
