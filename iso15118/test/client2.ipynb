{
 "cells": [
  {
   "cell_type": "code",
   "execution_count": 1,
   "id": "4ba47fce",
   "metadata": {},
   "outputs": [],
   "source": [
    "import asyncio\n",
    "import datetime"
   ]
  },
  {
   "cell_type": "code",
   "execution_count": 2,
   "id": "06c72b65",
   "metadata": {},
   "outputs": [],
   "source": [
    "async def tcp_echo_client(message):\n",
    "    reader, writer = await asyncio.open_connection(\n",
    "        '127.0.0.1', 9002)\n",
    "    \n",
    "    i = 0\n",
    "    while (i < 5):\n",
    "        dt = datetime.datetime.now()\n",
    "        print(f'Time: {dt} Send: {message!r}')\n",
    "        writer.write(message.encode())\n",
    "        await writer.drain()\n",
    "\n",
    "        \n",
    "        data = await reader.read(100)\n",
    "        dt = datetime.datetime.now()\n",
    "        print(f'Time: {dt} Received: {data.decode()!r}')\n",
    "        i = i + 1\n",
    "        await asyncio.sleep(1)\n",
    "    \n",
    "    message = 'quit'\n",
    "    print(f'Send: {message!r}')\n",
    "    writer.write(message.encode())\n",
    "    await writer.drain()\n",
    "    data = await reader.read(100)\n",
    "    print(f'Received: {data.decode()!r}')\n",
    "        \n",
    "    print('Close the connection')\n",
    "    writer.close()\n",
    "    await writer.wait_closed()"
   ]
  },
  {
   "cell_type": "code",
   "execution_count": 3,
   "id": "e910649c",
   "metadata": {},
   "outputs": [
    {
     "name": "stdout",
     "output_type": "stream",
     "text": [
      "Time: 2023-02-28 15:22:12.437952 Send: 'Client 2: Hello World!'\n",
      "Time: 2023-02-28 15:22:12.438179 Received: 'Client 2: Hello World!'\n",
      "Time: 2023-02-28 15:22:13.439506 Send: 'Client 2: Hello World!'\n",
      "Time: 2023-02-28 15:22:14.439859 Received: 'Client 2: Hello World!'\n",
      "Time: 2023-02-28 15:22:15.441198 Send: 'Client 2: Hello World!'\n",
      "Time: 2023-02-28 15:22:16.442376 Received: 'Client 2: Hello World!'\n",
      "Time: 2023-02-28 15:22:17.443953 Send: 'Client 2: Hello World!'\n",
      "Time: 2023-02-28 15:22:18.445019 Received: 'Client 2: Hello World!'\n",
      "Time: 2023-02-28 15:22:19.446611 Send: 'Client 2: Hello World!'\n",
      "Time: 2023-02-28 15:22:20.447380 Received: 'Client 2: Hello World!'\n",
      "Send: 'quit'\n",
      "Received: 'quit'\n",
      "Close the connection\n"
     ]
    }
   ],
   "source": [
    "await tcp_echo_client('Client 2: Hello World!')"
   ]
  },
  {
   "cell_type": "code",
   "execution_count": null,
   "id": "25dab0af",
   "metadata": {},
   "outputs": [],
   "source": []
  }
 ],
 "metadata": {
  "kernelspec": {
   "display_name": "Python 3 (ipykernel)",
   "language": "python",
   "name": "python3"
  },
  "language_info": {
   "codemirror_mode": {
    "name": "ipython",
    "version": 3
   },
   "file_extension": ".py",
   "mimetype": "text/x-python",
   "name": "python",
   "nbconvert_exporter": "python",
   "pygments_lexer": "ipython3",
   "version": "3.9.7"
  }
 },
 "nbformat": 4,
 "nbformat_minor": 5
}
