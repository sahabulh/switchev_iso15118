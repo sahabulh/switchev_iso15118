{
 "cells": [
  {
   "cell_type": "code",
   "execution_count": 1,
   "id": "5deff4b6",
   "metadata": {},
   "outputs": [],
   "source": [
    "import base64\n",
    "import ssl\n",
    "import requests\n",
    "from urllib.parse import urljoin\n",
    "\n",
    "from cryptography import x509\n",
    "from cryptography.hazmat.backends import default_backend\n",
    "from cryptography.hazmat.primitives import serialization\n",
    "from cryptography.hazmat.primitives.hashes import SHA1\n",
    "from cryptography.x509 import ocsp\n",
    "from cryptography.x509.ocsp import OCSPResponseStatus, OCSPCertStatus\n",
    "from cryptography.x509.oid import ExtensionOID, AuthorityInformationAccessOID"
   ]
  },
  {
   "cell_type": "code",
   "execution_count": 2,
   "id": "288cf6e0",
   "metadata": {},
   "outputs": [],
   "source": [
    "def get_cert_for_hostname(hostname, port):\n",
    "    conn = ssl.create_connection((hostname, port))\n",
    "    context = ssl.SSLContext(ssl.PROTOCOL_SSLv23)\n",
    "    sock = context.wrap_socket(conn, server_hostname=hostname)\n",
    "    certDER = sock.getpeercert(True)\n",
    "    certPEM = ssl.DER_cert_to_PEM_cert(certDER)\n",
    "    return x509.load_pem_x509_certificate(certPEM.encode('ascii'), default_backend())"
   ]
  },
  {
   "cell_type": "code",
   "execution_count": 3,
   "id": "d4069126",
   "metadata": {},
   "outputs": [],
   "source": [
    "def get_cert_for_path(cert_path):\n",
    "    with open(cert_path, \"rb\") as cert_file:\n",
    "        certPEM = cert_file.read()\n",
    "        return x509.load_pem_x509_certificate(certPEM, default_backend())"
   ]
  },
  {
   "cell_type": "code",
   "execution_count": 4,
   "id": "442ca614",
   "metadata": {},
   "outputs": [],
   "source": [
    "def get_issuer(cert):\n",
    "    aia = cert.extensions.get_extension_for_oid(ExtensionOID.AUTHORITY_INFORMATION_ACCESS).value\n",
    "    issuers = [ia for ia in aia if ia.access_method == AuthorityInformationAccessOID.CA_ISSUERS]\n",
    "    if not issuers:\n",
    "        raise Exception(f'no issuers entry in AIA')\n",
    "    return issuers[0].access_location.value"
   ]
  },
  {
   "cell_type": "code",
   "execution_count": 5,
   "id": "905d24b5",
   "metadata": {},
   "outputs": [],
   "source": [
    "def get_ocsp_server(cert):\n",
    "    aia = cert.extensions.get_extension_for_oid(ExtensionOID.AUTHORITY_INFORMATION_ACCESS).value\n",
    "    ocsps = [ia for ia in aia if ia.access_method == AuthorityInformationAccessOID.OCSP]\n",
    "    if not ocsps:\n",
    "        raise Exception(f'no ocsp server entry in AIA')\n",
    "    return ocsps[0].access_location.value"
   ]
  },
  {
   "cell_type": "code",
   "execution_count": 6,
   "id": "4731318f",
   "metadata": {},
   "outputs": [],
   "source": [
    "def get_issuer_cert(ca_issuer):\n",
    "    issuer_response = requests.get(ca_issuer)\n",
    "    if issuer_response.ok:\n",
    "        issuerDER = issuer_response.content\n",
    "        issuerPEM = ssl.DER_cert_to_PEM_cert(issuerDER)\n",
    "        return x509.load_pem_x509_certificate(issuerPEM.encode('ascii'), default_backend())\n",
    "    raise Exception(f'fetching issuer cert  failed with response status: {issuer_response.status_code}')"
   ]
  },
  {
   "cell_type": "code",
   "execution_count": 7,
   "id": "dc18e4f0",
   "metadata": {},
   "outputs": [],
   "source": [
    "def get_issuer_cert_path(cert_path):\n",
    "    with open(cert_path, \"rb\") as cert_file:\n",
    "        certPEM = cert_file.read()\n",
    "        return x509.load_pem_x509_certificate(certPEM, default_backend())"
   ]
  },
  {
   "cell_type": "code",
   "execution_count": 8,
   "id": "69b43256",
   "metadata": {},
   "outputs": [],
   "source": [
    "def get_oscp_request(ocsp_server, cert, issuer_cert):\n",
    "    builder = ocsp.OCSPRequestBuilder()\n",
    "    builder = builder.add_certificate(cert, issuer_cert, SHA1())\n",
    "    req = builder.build()\n",
    "    req_path = base64.b64encode(req.public_bytes(serialization.Encoding.DER))\n",
    "    return urljoin(ocsp_server + '/', req_path.decode('ascii'))"
   ]
  },
  {
   "cell_type": "code",
   "execution_count": 9,
   "id": "ce632b78",
   "metadata": {},
   "outputs": [],
   "source": [
    "def get_ocsp_cert_status(ocsp_server, cert, issuer_cert):\n",
    "    try:\n",
    "        ocsp_resp = requests.get(get_oscp_request(ocsp_server, cert, issuer_cert))\n",
    "    except:\n",
    "        print(f\"Can't connect to the OCSP server at {ocsp_server}.\")\n",
    "        return None\n",
    "    if ocsp_resp.ok:\n",
    "        ocsp_decoded = ocsp.load_der_ocsp_response(ocsp_resp.content)\n",
    "        if ocsp_decoded.response_status == OCSPResponseStatus.SUCCESSFUL:\n",
    "            return ocsp_decoded.certificate_status\n",
    "        else:\n",
    "            raise Exception(f'decoding ocsp response failed: {ocsp_decoded.response_status}')\n",
    "    raise Exception(f'fetching ocsp cert status failed with response status: {ocsp_resp.status_code}')"
   ]
  },
  {
   "cell_type": "code",
   "execution_count": 10,
   "id": "e5696325",
   "metadata": {},
   "outputs": [],
   "source": [
    "def get_cert_status_for_host(hostname, port):\n",
    "    print('   hostname:', hostname, \"port:\", port)\n",
    "    cert = get_cert_for_hostname(hostname, port)\n",
    "    with open(\"local_cert.pem\", \"wb\") as f:\n",
    "        f.write(cert.public_bytes(serialization.Encoding.PEM))\n",
    "    ca_issuer = get_issuer(cert)\n",
    "    print('   issuer ->', ca_issuer)\n",
    "    issuer_cert = get_issuer_cert(ca_issuer)\n",
    "    with open(\"issuer_cert.pem\", \"wb\") as f:\n",
    "        f.write(issuer_cert.public_bytes(serialization.Encoding.PEM))\n",
    "    ocsp_server = get_ocsp_server(cert)\n",
    "    print('   ocsp_server ->', ocsp_server)\n",
    "    print('   ocsp_request ->', get_oscp_request(ocsp_server, cert, issuer_cert))\n",
    "    return get_ocsp_cert_status(ocsp_server, cert, issuer_cert)"
   ]
  },
  {
   "cell_type": "code",
   "execution_count": 11,
   "id": "71feb2b8",
   "metadata": {},
   "outputs": [],
   "source": [
    "def get_cert_status_for_path(path, issuer_path):\n",
    "    print('   path:', path)\n",
    "    cert = get_cert_for_path(path)\n",
    "    print(cert)\n",
    "    issuer_cert = get_issuer_cert_path(issuer_path)\n",
    "    ocsp_server = get_ocsp_server(cert)\n",
    "    print('   ocsp_server ->', ocsp_server)\n",
    "    print('   ocsp_request ->', get_oscp_request(ocsp_server, cert, issuer_cert))\n",
    "    return get_ocsp_cert_status(ocsp_server, cert, issuer_cert)"
   ]
  },
  {
   "cell_type": "code",
   "execution_count": 12,
   "id": "d486277e",
   "metadata": {
    "scrolled": false
   },
   "outputs": [
    {
     "name": "stdout",
     "output_type": "stream",
     "text": [
      "   hostname: outlook.office.com port: 443\n",
      "   issuer -> http://cacerts.digicert.com/DigiCertCloudServicesCA-1.crt\n",
      "   ocsp_server -> http://ocspx.digicert.com\n",
      "   ocsp_request -> http://ocspx.digicert.com/MFEwTzBNMEswSTAJBgUrDgMCGgUABBRItqniEpOzwCCxKs5Oc2SaPGfcmwQU3VHQojFzqXOuj7QBfl2MV8uf8PcCEA8S3IlVgh1tk2vPNOUPYMU=\n"
     ]
    },
    {
     "data": {
      "text/plain": [
       "<OCSPCertStatus.GOOD: 0>"
      ]
     },
     "execution_count": 12,
     "metadata": {},
     "output_type": "execute_result"
    }
   ],
   "source": [
    "get_cert_status_for_host(\"outlook.office.com\", 443)"
   ]
  },
  {
   "cell_type": "code",
   "execution_count": 13,
   "id": "ab6fb1fc",
   "metadata": {
    "scrolled": false
   },
   "outputs": [
    {
     "name": "stdout",
     "output_type": "stream",
     "text": [
      "   path: CPO_cert_1.pem\n",
      "<Certificate(subject=<Name(C=US,O=Sandia,DC=CPO,OU=EV Department,CN=EV001)>, ...)>\n",
      "   ocsp_server -> http://ocsp.demo.one.digicert.com\n",
      "   ocsp_request -> http://ocsp.demo.one.digicert.com/MFUwUzBRME8wTTAJBgUrDgMCGgUABBQjNURBRu551spuO2JxTNQGRZOOlAQUMikgDWwe1Fgiq6IbpFSH8V2nZ50CFCoEYSyDT3ult45QRd8YsIS6f0dk\n"
     ]
    },
    {
     "data": {
      "text/plain": [
       "<OCSPCertStatus.GOOD: 0>"
      ]
     },
     "execution_count": 13,
     "metadata": {},
     "output_type": "execute_result"
    }
   ],
   "source": [
    "get_cert_status_for_path(\"CPO_cert_1.pem\", \"CPOSubCA_cert_1.pem\")"
   ]
  },
  {
   "cell_type": "code",
   "execution_count": 14,
   "id": "dcca5086",
   "metadata": {},
   "outputs": [
    {
     "name": "stdout",
     "output_type": "stream",
     "text": [
      "   path: local_cert.pem\n",
      "<Certificate(subject=<Name(C=US,ST=Washington,L=Redmond,O=Microsoft Corporation,CN=outlook.com)>, ...)>\n",
      "   ocsp_server -> http://ocspx.digicert.com\n",
      "   ocsp_request -> http://ocspx.digicert.com/MFEwTzBNMEswSTAJBgUrDgMCGgUABBRItqniEpOzwCCxKs5Oc2SaPGfcmwQU3VHQojFzqXOuj7QBfl2MV8uf8PcCEA8S3IlVgh1tk2vPNOUPYMU=\n"
     ]
    },
    {
     "data": {
      "text/plain": [
       "<OCSPCertStatus.GOOD: 0>"
      ]
     },
     "execution_count": 14,
     "metadata": {},
     "output_type": "execute_result"
    }
   ],
   "source": [
    "get_cert_status_for_path(\"local_cert.pem\", \"issuer_cert.pem\")"
   ]
  },
  {
   "cell_type": "code",
   "execution_count": 15,
   "id": "b97d208f",
   "metadata": {},
   "outputs": [
    {
     "name": "stdout",
     "output_type": "stream",
     "text": [
      "   path: CPOSubCA_cert_1.pem\n",
      "<Certificate(subject=<Name(C=US,O=EV Charging PKI,DC=EVCPKI,OU=TEST CPO Sub-CA,CN=P-256 TEST Tier 1 CPO Sub-CA)>, ...)>\n",
      "   ocsp_server -> http://ocsp.demo.one.digicert.com\n",
      "   ocsp_request -> http://ocsp.demo.one.digicert.com/MFUwUzBRME8wTTAJBgUrDgMCGgUABBTQyWYYJgvYzCTgD1JGDg1fRnqIHAQU9eLCEldHooVf0lH1WfmUT4Mm6usCFHlV7Ka49kdpsodFEq1pF95Up1wX\n"
     ]
    }
   ],
   "source": [
    "a = get_cert_status_for_path(\"CPOSubCA_cert_1.pem\", \"CPORootCA_cert_1.pem\")"
   ]
  },
  {
   "cell_type": "code",
   "execution_count": null,
   "id": "f3418d36",
   "metadata": {},
   "outputs": [],
   "source": []
  }
 ],
 "metadata": {
  "kernelspec": {
   "display_name": "Python 3 (ipykernel)",
   "language": "python",
   "name": "python3"
  },
  "language_info": {
   "codemirror_mode": {
    "name": "ipython",
    "version": 3
   },
   "file_extension": ".py",
   "mimetype": "text/x-python",
   "name": "python",
   "nbconvert_exporter": "python",
   "pygments_lexer": "ipython3",
   "version": "3.9.7"
  }
 },
 "nbformat": 4,
 "nbformat_minor": 5
}
