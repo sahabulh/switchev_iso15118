{
 "cells": [
  {
   "cell_type": "code",
   "execution_count": 1,
   "id": "7619f8c6",
   "metadata": {},
   "outputs": [],
   "source": [
    "import psutil"
   ]
  },
  {
   "cell_type": "code",
   "execution_count": 2,
   "id": "9db20b80",
   "metadata": {},
   "outputs": [
    {
     "name": "stdout",
     "output_type": "stream",
     "text": [
      "{'lo': [snicaddr(family=<AddressFamily.AF_INET: 2>, address='127.0.0.1', netmask='255.0.0.0', broadcast=None, ptp=None), snicaddr(family=<AddressFamily.AF_INET6: 10>, address='::1', netmask='ffff:ffff:ffff:ffff:ffff:ffff:ffff:ffff', broadcast=None, ptp=None), snicaddr(family=<AddressFamily.AF_PACKET: 17>, address='00:00:00:00:00:00', netmask=None, broadcast=None, ptp=None)], 'enp4s0': [snicaddr(family=<AddressFamily.AF_INET: 2>, address='10.12.11.232', netmask='255.255.254.0', broadcast='10.12.11.255', ptp=None), snicaddr(family=<AddressFamily.AF_INET6: 10>, address='fe80::fa98:a05e:2407:b2b7%enp4s0', netmask='ffff:ffff:ffff:ffff::', broadcast=None, ptp=None), snicaddr(family=<AddressFamily.AF_PACKET: 17>, address='b0:4f:13:0d:c0:5a', netmask=None, broadcast='ff:ff:ff:ff:ff:ff', ptp=None)], 'br-580b61b9c034': [snicaddr(family=<AddressFamily.AF_INET: 2>, address='172.18.0.1', netmask='255.255.0.0', broadcast='172.18.255.255', ptp=None), snicaddr(family=<AddressFamily.AF_PACKET: 17>, address='02:42:2b:a9:da:ea', netmask=None, broadcast='ff:ff:ff:ff:ff:ff', ptp=None)], 'docker0': [snicaddr(family=<AddressFamily.AF_INET: 2>, address='172.17.0.1', netmask='255.255.0.0', broadcast='172.17.255.255', ptp=None), snicaddr(family=<AddressFamily.AF_PACKET: 17>, address='02:42:54:93:de:66', netmask=None, broadcast='ff:ff:ff:ff:ff:ff', ptp=None)], 'phenix': [snicaddr(family=<AddressFamily.AF_INET6: 10>, address='fe80::744f:1ff:fee6:5948%phenix', netmask='ffff:ffff:ffff:ffff::', broadcast=None, ptp=None), snicaddr(family=<AddressFamily.AF_PACKET: 17>, address='76:4f:01:e6:59:48', netmask=None, broadcast='ff:ff:ff:ff:ff:ff', ptp=None)], 'mega_tap48': [snicaddr(family=<AddressFamily.AF_INET6: 10>, address='fe80::64f2:6bff:fee0:4921%mega_tap48', netmask='ffff:ffff:ffff:ffff::', broadcast=None, ptp=None), snicaddr(family=<AddressFamily.AF_PACKET: 17>, address='66:f2:6b:e0:49:21', netmask=None, broadcast='ff:ff:ff:ff:ff:ff', ptp=None)], 'mega_tap49': [snicaddr(family=<AddressFamily.AF_INET6: 10>, address='fe80::a060:9aff:feb8:f737%mega_tap49', netmask='ffff:ffff:ffff:ffff::', broadcast=None, ptp=None), snicaddr(family=<AddressFamily.AF_PACKET: 17>, address='a2:60:9a:b8:f7:37', netmask=None, broadcast='ff:ff:ff:ff:ff:ff', ptp=None)], 'wlo1': [snicaddr(family=<AddressFamily.AF_PACKET: 17>, address='ac:74:b1:9a:34:68', netmask=None, broadcast='ff:ff:ff:ff:ff:ff', ptp=None)], 'ovs-system': [snicaddr(family=<AddressFamily.AF_PACKET: 17>, address='46:87:c1:2b:18:5b', netmask=None, broadcast='ff:ff:ff:ff:ff:ff', ptp=None)], 'mega_bridge': [snicaddr(family=<AddressFamily.AF_PACKET: 17>, address='4a:b1:dc:f1:18:4a', netmask=None, broadcast='ff:ff:ff:ff:ff:ff', ptp=None)]}\n"
     ]
    }
   ],
   "source": [
    "nics_with_addresses = psutil.net_if_addrs()\n",
    "print(nics_with_addresses)"
   ]
  },
  {
   "cell_type": "code",
   "execution_count": 3,
   "id": "31307242",
   "metadata": {},
   "outputs": [
    {
     "name": "stdout",
     "output_type": "stream",
     "text": [
      "[snicaddr(family=<AddressFamily.AF_INET: 2>, address='10.12.11.232', netmask='255.255.254.0', broadcast='10.12.11.255', ptp=None), snicaddr(family=<AddressFamily.AF_INET6: 10>, address='fe80::fa98:a05e:2407:b2b7%enp4s0', netmask='ffff:ffff:ffff:ffff::', broadcast=None, ptp=None), snicaddr(family=<AddressFamily.AF_PACKET: 17>, address='b0:4f:13:0d:c0:5a', netmask=None, broadcast='ff:ff:ff:ff:ff:ff', ptp=None)]\n"
     ]
    }
   ],
   "source": [
    "nic_addr_list = nics_with_addresses['enp4s0']\n",
    "print(nic_addr_list)"
   ]
  },
  {
   "cell_type": "code",
   "execution_count": 8,
   "id": "3d4925fa",
   "metadata": {},
   "outputs": [
    {
     "name": "stdout",
     "output_type": "stream",
     "text": [
      "snicaddr(family=<AddressFamily.AF_INET: 2>, address='10.12.11.232', netmask='255.255.254.0', broadcast='10.12.11.255', ptp=None)\n",
      "\n",
      "snicaddr(family=<AddressFamily.AF_INET6: 10>, address='fe80::fa98:a05e:2407:b2b7%enp4s0', netmask='ffff:ffff:ffff:ffff::', broadcast=None, ptp=None)\n",
      "\n",
      "snicaddr(family=<AddressFamily.AF_PACKET: 17>, address='b0:4f:13:0d:c0:5a', netmask=None, broadcast='ff:ff:ff:ff:ff:ff', ptp=None)\n",
      "B04F130DC05A\n",
      "\n"
     ]
    }
   ],
   "source": [
    "for addr in nic_addr_list:\n",
    "    print(addr)\n",
    "    if addr.family == psutil.AF_LINK:\n",
    "        print(addr.address.replace(\":\", \"\").upper())\n",
    "    print(\"\")"
   ]
  },
  {
   "cell_type": "code",
   "execution_count": null,
   "id": "d4c0430a",
   "metadata": {},
   "outputs": [],
   "source": []
  }
 ],
 "metadata": {
  "kernelspec": {
   "display_name": "Python 3 (ipykernel)",
   "language": "python",
   "name": "python3"
  },
  "language_info": {
   "codemirror_mode": {
    "name": "ipython",
    "version": 3
   },
   "file_extension": ".py",
   "mimetype": "text/x-python",
   "name": "python",
   "nbconvert_exporter": "python",
   "pygments_lexer": "ipython3",
   "version": "3.9.7"
  }
 },
 "nbformat": 4,
 "nbformat_minor": 5
}
